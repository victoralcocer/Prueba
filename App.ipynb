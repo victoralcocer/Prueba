{
  "nbformat": 4,
  "nbformat_minor": 0,
  "metadata": {
    "colab": {
      "provenance": [],
      "toc_visible": true,
      "authorship_tag": "ABX9TyOcO640cKmbZ7vmX0hULS3k",
      "include_colab_link": true
    },
    "kernelspec": {
      "name": "python3",
      "display_name": "Python 3"
    },
    "language_info": {
      "name": "python"
    }
  },
  "cells": [
    {
      "cell_type": "markdown",
      "metadata": {
        "id": "view-in-github",
        "colab_type": "text"
      },
      "source": [
        "<a href=\"https://colab.research.google.com/github/victoralcocer/Prueba/blob/main/App.ipynb\" target=\"_parent\"><img src=\"https://colab.research.google.com/assets/colab-badge.svg\" alt=\"Open In Colab\"/></a>"
      ]
    },
    {
      "cell_type": "code",
      "execution_count": null,
      "metadata": {
        "id": "pFEdqEEFtoXp"
      },
      "outputs": [],
      "source": [
        "import gradio as gr \n",
        "\n",
        "def function(name, surname):\n",
        "    \n",
        "    return \"¡Bienvenido!\"+ \" \" +name+ \" \"+surname\n",
        "\n",
        "inputs = [\n",
        "    \n",
        "    gr.inputs.Textbox(label=\"Nombre\"),\n",
        "    gr.inputs.Textbox(label=\"Apellido\")\n",
        "    \n",
        "]\n",
        "\n",
        "app = gr.Interface(fn=function, inputs=inputs, outputs=\"text\")\n",
        "\n",
        "app.launch()"
      ]
    },
    {
      "cell_type": "markdown",
      "source": [
        "# Nueva sección"
      ],
      "metadata": {
        "id": "ErwyUTgpqD4l"
      }
    },
    {
      "cell_type": "markdown",
      "source": [
        "# Nueva sección"
      ],
      "metadata": {
        "id": "whBp_mESqD78"
      }
    },
    {
      "cell_type": "markdown",
      "source": [
        "Casos principales para usar Gradio\n",
        "Gradio es una biblioteca de Python, con ella podemos hacer documentos Web de forma\n",
        "rápida con elementos de entrada y salida.\n",
        "Algunos de los ejemplos vistos:\n",
        "\n",
        "● Para hacer formularios, como por ejemplo un login.\n",
        "\n",
        "● Para transformar un tipo de archivo en otro.\n",
        "\n",
        "● Para describir imágenes.\n",
        "\n",
        "● Para hacer gráficos.\n",
        "\n",
        "● Para transformar sonidos de un micrófono en tipo texto."
      ],
      "metadata": {
        "id": "t5cSqjFkmEhv"
      }
    },
    {
      "cell_type": "markdown",
      "source": [
        "App sencilla por label introducimos nombre y apellidos y luego imprimimos en outputs"
      ],
      "metadata": {
        "id": "Hi__xy5BuE0g"
      }
    },
    {
      "cell_type": "code",
      "source": [],
      "metadata": {
        "id": "gTW1_k4wt6OQ"
      },
      "execution_count": null,
      "outputs": []
    }
  ]
}